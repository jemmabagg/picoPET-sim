{
 "cells": [
  {
   "cell_type": "code",
   "execution_count": 25,
   "id": "15617b6a",
   "metadata": {},
   "outputs": [],
   "source": [
    "import numpy as np\n",
    "import matplotlib.pyplot as plt \n",
    "\n",
    "from skimage import data, img_as_float\n",
    "from skimage.metrics import structural_similarity as ssim\n",
    "from skimage.metrics import mean_squared_error\n",
    "from skimage.io import imread"
   ]
  },
  {
   "cell_type": "code",
   "execution_count": 31,
   "id": "282a23ce",
   "metadata": {},
   "outputs": [
    {
     "name": "stdout",
     "output_type": "stream",
     "text": [
      "Shape: (180, 180, 180)\n"
     ]
    }
   ],
   "source": [
    "import numpy as np\n",
    "\n",
    "def read_mhd_file(mhd_filename):\n",
    "    header = {}\n",
    "    with open(mhd_filename, 'r') as f:\n",
    "        for line in f:\n",
    "            if '=' in line:\n",
    "                key, value = line.strip().split('=')\n",
    "                header[key.strip()] = value.strip()\n",
    "    return header\n",
    "\n",
    "def load_raw_data(header, mhd_dir='.'):\n",
    "    # Get data type\n",
    "    dtype_map = {\n",
    "        'MET_CHAR': np.int8,\n",
    "        'MET_UCHAR': np.uint8,\n",
    "        'MET_SHORT': np.int16,\n",
    "        'MET_USHORT': np.uint16,\n",
    "        'MET_INT': np.int32,\n",
    "        'MET_UINT': np.uint32,\n",
    "        'MET_FLOAT': np.float32,\n",
    "        'MET_DOUBLE': np.float64,\n",
    "    }\n",
    "    dtype = dtype_map[header['ElementType']] #GATE uses ElementType strings to describe how the voxel values are stored\n",
    "\n",
    "    # Get dimensions\n",
    "    dim_size = [int(x) for x in header['DimSize'].split()]\n",
    "\n",
    "    # Get data file path\n",
    "    raw_file = header['ElementDataFile']\n",
    "    raw_file_path = f\"{mhd_dir}/{raw_file}\"\n",
    "\n",
    "    # Read binary data\n",
    "    data = np.fromfile(raw_file_path, dtype=dtype)\n",
    "    data = data.reshape(dim_size[::-1])  # reverse order (z, y, x)\n",
    "\n",
    "    return data\n",
    "\n",
    "# Usage\n",
    "mhd_file = 'output/true_activity_map_edep.mhd'\n",
    "header = read_mhd_file(mhd_file)\n",
    "activity_data = load_raw_data(header, mhd_dir='output')\n",
    "\n",
    "print(\"Shape:\", activity_data.shape)\n",
    "\n",
    "#Integrating over z-axis (z, y, x)\n",
    "activity_data = np.transpose(activity_data, (2, 1,0))\n",
    "projection_image = np.sum(activity_data, axis=2)"
   ]
  },
  {
   "cell_type": "code",
   "execution_count": 34,
   "id": "be8d6726",
   "metadata": {},
   "outputs": [
    {
     "name": "stderr",
     "output_type": "stream",
     "text": [
      "/var/folders/qv/434ty_nj1bdfm_6l1bc5ppg80000gn/T/ipykernel_68534/2973315267.py:10: MatplotlibDeprecationWarning: savefig() got unexpected keyword argument \"facecolor\" which is no longer supported as of 3.3 and will become an error two minor releases later\n",
      "  fig.savefig(\"dose_map.png\", dpi=300)\n",
      "/var/folders/qv/434ty_nj1bdfm_6l1bc5ppg80000gn/T/ipykernel_68534/2973315267.py:10: MatplotlibDeprecationWarning: savefig() got unexpected keyword argument \"edgecolor\" which is no longer supported as of 3.3 and will become an error two minor releases later\n",
      "  fig.savefig(\"dose_map.png\", dpi=300)\n",
      "/var/folders/qv/434ty_nj1bdfm_6l1bc5ppg80000gn/T/ipykernel_68534/2973315267.py:10: MatplotlibDeprecationWarning: savefig() got unexpected keyword argument \"orientation\" which is no longer supported as of 3.3 and will become an error two minor releases later\n",
      "  fig.savefig(\"dose_map.png\", dpi=300)\n",
      "/var/folders/qv/434ty_nj1bdfm_6l1bc5ppg80000gn/T/ipykernel_68534/2973315267.py:10: MatplotlibDeprecationWarning: savefig() got unexpected keyword argument \"bbox_inches_restore\" which is no longer supported as of 3.3 and will become an error two minor releases later\n",
      "  fig.savefig(\"dose_map.png\", dpi=300)\n"
     ]
    }
   ],
   "source": [
    "# Plot it in a clean figure\n",
    "fig = plt.figure(figsize=(6, 6), frameon=False)\n",
    "ax = plt.Axes(fig, [0., 0., 1., 1.])  # Full canvas usage\n",
    "ax.set_axis_off()\n",
    "fig.add_axes(ax)\n",
    "ax.imshow(projection_image.T, cmap='gray', origin='lower')\n",
    "#plt.show()\n",
    "\n",
    "# Save the image-only output\n",
    "fig.savefig(\"dose_map.png\", dpi=300)\n",
    "plt.close(fig)"
   ]
  },
  {
   "cell_type": "code",
   "execution_count": null,
   "id": "db17cfea",
   "metadata": {},
   "outputs": [
    {
     "ename": "ValueError",
     "evalue": "Input images must have the same dimensions.",
     "output_type": "error",
     "traceback": [
      "\u001b[0;31m---------------------------------------------------------------------------\u001b[0m",
      "\u001b[0;31mValueError\u001b[0m                                Traceback (most recent call last)",
      "Cell \u001b[0;32mIn[36], line 9\u001b[0m\n\u001b[1;32m      3\u001b[0m img_philips \u001b[38;5;241m=\u001b[39m img_as_float(imread(\u001b[38;5;124m\"\u001b[39m\u001b[38;5;124mfbp_reco.png\u001b[39m\u001b[38;5;124m\"\u001b[39m, as_gray\u001b[38;5;241m=\u001b[39m\u001b[38;5;28;01mTrue\u001b[39;00m))\n\u001b[1;32m      5\u001b[0m \u001b[38;5;66;03m# Ensure same shape\u001b[39;00m\n\u001b[1;32m      6\u001b[0m \u001b[38;5;66;03m#assert img_pet.shape == img_philips.shape, \"Images must be the same size.\"\u001b[39;00m\n\u001b[1;32m      7\u001b[0m \n\u001b[1;32m      8\u001b[0m \u001b[38;5;66;03m# Compute metrics\u001b[39;00m\n\u001b[0;32m----> 9\u001b[0m mse_val \u001b[38;5;241m=\u001b[39m \u001b[43mmean_squared_error\u001b[49m\u001b[43m(\u001b[49m\u001b[43mimg_philips\u001b[49m\u001b[43m,\u001b[49m\u001b[43m \u001b[49m\u001b[43mimg_pet\u001b[49m\u001b[43m)\u001b[49m\n\u001b[1;32m     10\u001b[0m ssim_val \u001b[38;5;241m=\u001b[39m ssim(img_philips, img_pet, data_range\u001b[38;5;241m=\u001b[39mimg_philips\u001b[38;5;241m.\u001b[39mmax() \u001b[38;5;241m-\u001b[39m img_philips\u001b[38;5;241m.\u001b[39mmin())\n\u001b[1;32m     12\u001b[0m \u001b[38;5;66;03m# Plot images\u001b[39;00m\n",
      "File \u001b[0;32m/Library/Frameworks/Python.framework/Versions/3.11/lib/python3.11/site-packages/skimage/metrics/simple_metrics.py:42\u001b[0m, in \u001b[0;36mmean_squared_error\u001b[0;34m(image0, image1)\u001b[0m\n\u001b[1;32m     21\u001b[0m \u001b[38;5;28;01mdef\u001b[39;00m \u001b[38;5;21mmean_squared_error\u001b[39m(image0, image1):\n\u001b[1;32m     22\u001b[0m \u001b[38;5;250m    \u001b[39m\u001b[38;5;124;03m\"\"\"\u001b[39;00m\n\u001b[1;32m     23\u001b[0m \u001b[38;5;124;03m    Compute the mean-squared error between two images.\u001b[39;00m\n\u001b[1;32m     24\u001b[0m \n\u001b[0;32m   (...)\u001b[0m\n\u001b[1;32m     40\u001b[0m \n\u001b[1;32m     41\u001b[0m \u001b[38;5;124;03m    \"\"\"\u001b[39;00m\n\u001b[0;32m---> 42\u001b[0m     \u001b[43mcheck_shape_equality\u001b[49m\u001b[43m(\u001b[49m\u001b[43mimage0\u001b[49m\u001b[43m,\u001b[49m\u001b[43m \u001b[49m\u001b[43mimage1\u001b[49m\u001b[43m)\u001b[49m\n\u001b[1;32m     43\u001b[0m     image0, image1 \u001b[38;5;241m=\u001b[39m _as_floats(image0, image1)\n\u001b[1;32m     44\u001b[0m     \u001b[38;5;28;01mreturn\u001b[39;00m np\u001b[38;5;241m.\u001b[39mmean((image0 \u001b[38;5;241m-\u001b[39m image1) \u001b[38;5;241m*\u001b[39m\u001b[38;5;241m*\u001b[39m \u001b[38;5;241m2\u001b[39m, dtype\u001b[38;5;241m=\u001b[39mnp\u001b[38;5;241m.\u001b[39mfloat64)\n",
      "File \u001b[0;32m/Library/Frameworks/Python.framework/Versions/3.11/lib/python3.11/site-packages/skimage/_shared/utils.py:294\u001b[0m, in \u001b[0;36mcheck_shape_equality\u001b[0;34m(im1, im2)\u001b[0m\n\u001b[1;32m    292\u001b[0m \u001b[38;5;250m\u001b[39m\u001b[38;5;124;03m\"\"\"Raise an error if the shape do not match.\"\"\"\u001b[39;00m\n\u001b[1;32m    293\u001b[0m \u001b[38;5;28;01mif\u001b[39;00m \u001b[38;5;129;01mnot\u001b[39;00m im1\u001b[38;5;241m.\u001b[39mshape \u001b[38;5;241m==\u001b[39m im2\u001b[38;5;241m.\u001b[39mshape:\n\u001b[0;32m--> 294\u001b[0m     \u001b[38;5;28;01mraise\u001b[39;00m \u001b[38;5;167;01mValueError\u001b[39;00m(\u001b[38;5;124m'\u001b[39m\u001b[38;5;124mInput images must have the same dimensions.\u001b[39m\u001b[38;5;124m'\u001b[39m)\n\u001b[1;32m    295\u001b[0m \u001b[38;5;28;01mreturn\u001b[39;00m\n",
      "\u001b[0;31mValueError\u001b[0m: Input images must have the same dimensions."
     ]
    }
   ],
   "source": [
    "# Load and convert images to float\n",
    "img_pet = img_as_float(imread(\"dose_map.png\", as_gray=True))\n",
    "img_philips = img_as_float(imread(\"fbp_reco.png\", as_gray=True))\n",
    "\n",
    "# Ensure same shape\n",
    "assert img_pet.shape == img_philips.shape, \"Images must be the same size.\"\n",
    "\n",
    "# Compute metrics\n",
    "mse_val = mean_squared_error(img_philips, img_pet)\n",
    "ssim_val = ssim(img_philips, img_pet, data_range=img_philips.max() - img_philips.min())\n",
    "\n",
    "# Plot images\n",
    "fig, axes = plt.subplots(1, 2, figsize=(12, 5), sharex=True, sharey=True)\n",
    "ax = axes.ravel()\n",
    "\n",
    "ax[0].imshow(img_philips, cmap='gray', vmin=0, vmax=1)\n",
    "ax[0].set_title('Philips Estimate')\n",
    "ax[0].axis('off')\n",
    "\n",
    "ax[1].imshow(img_pet, cmap='gray', vmin=0, vmax=1)\n",
    "ax[1].set_title(f'PET Estimate\\nMSE: {mse_val:.4f}, SSIM: {ssim_val:.4f}')\n",
    "ax[1].axis('off')\n",
    "\n",
    "plt.tight_layout()\n",
    "plt.show()\n"
   ]
  }
 ],
 "metadata": {
  "kernelspec": {
   "display_name": "opengate_env",
   "language": "python",
   "name": "opengate_env"
  },
  "language_info": {
   "codemirror_mode": {
    "name": "ipython",
    "version": 3
   },
   "file_extension": ".py",
   "mimetype": "text/x-python",
   "name": "python",
   "nbconvert_exporter": "python",
   "pygments_lexer": "ipython3",
   "version": "3.11.8"
  }
 },
 "nbformat": 4,
 "nbformat_minor": 5
}
