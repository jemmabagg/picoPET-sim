{
 "cells": [
  {
   "cell_type": "code",
   "execution_count": 52,
   "metadata": {},
   "outputs": [],
   "source": [
    "import numpy as np\n",
    "import matplotlib.pyplot as plt\n",
    "from skimage.data import shepp_logan_phantom\n",
    "from skimage.transform import radon, iradon, rescale\n",
    "from IPython.display import display, clear_output\n",
    "import os \n",
    "from pathlib import Path\n",
    "import uproot\n",
    "import pandas as pd"
   ]
  },
  {
   "cell_type": "code",
   "execution_count": 53,
   "metadata": {},
   "outputs": [
    {
     "data": {
      "text/plain": [
       "'true_object = shepp_logan_phantom()\\nactivity_level = 0.1\\ntrue_object = rescale(activity_level * true_object, 0.5)\\n\\n#Forward project true object to generate simulated sinogram data \\n\\nazi_angles = np.linspace(0.0, 180.0, 180, endpoint=False) #Forward project along all of these angles\\nsinogram = radon(true_object, azi_angles, circle=False)'"
      ]
     },
     "execution_count": 53,
     "metadata": {},
     "output_type": "execute_result"
    }
   ],
   "source": [
    "#Using a simualted phantom and sinogram\n",
    "\n",
    "'''true_object = shepp_logan_phantom()\n",
    "activity_level = 0.1\n",
    "true_object = rescale(activity_level * true_object, 0.5)\n",
    "\n",
    "#Forward project true object to generate simulated sinogram data \n",
    "\n",
    "azi_angles = np.linspace(0.0, 180.0, 180, endpoint=False) #Forward project along all of these angles\n",
    "sinogram = radon(true_object, azi_angles, circle=False)'''\n"
   ]
  },
  {
   "cell_type": "code",
   "execution_count": 54,
   "metadata": {},
   "outputs": [
    {
     "name": "stdout",
     "output_type": "stream",
     "text": [
      "Loaded 12764007 hits.\n",
      "(12764007, 5)\n"
     ]
    }
   ],
   "source": [
    "# Load data\n",
    "cwd = os.getcwd()\n",
    "folder = Path(cwd) / \"output\"\n",
    "filename = os.path.join(folder, \"output_philips.root\")\n",
    "f = uproot.open(filename)\n",
    "hits = f[\"Singles1\"]\n",
    "\n",
    "# Load relevant branches\n",
    "arrays = hits.arrays([\n",
    "    \"PostPosition_X\", \"PostPosition_Y\", \"PostPosition_Z\", \n",
    "    \"TotalEnergyDeposit\", \"GlobalTime\"\n",
    "], library=\"np\")\n",
    "\n",
    "# Combine into DataFrame\n",
    "df = pd.DataFrame(arrays)\n",
    "print(f\"Loaded {len(df)} hits.\")\n",
    "\n",
    "df.head()\n",
    "print(df.shape)"
   ]
  },
  {
   "cell_type": "code",
   "execution_count": 55,
   "metadata": {},
   "outputs": [
    {
     "data": {
      "text/plain": [
       "'#Using data from GATE\\n\\n# The following command display the current working directory (where jupyter has been launched)\\n# and select the output folder\\ncwd = os.getcwd()\\nfolder = Path(cwd) / \"output\"\\nif (not folder.is_dir()):\\n    print(f\"ERROR: {folder} is not a folder.\")\\nprint(f\"The Current Working Directory (CWD) is {cwd}\")\\nprint(f\"The output folder is {folder}\")\\n\\n#filename = os.path.join(folder, \"output_pet.root\")\\nfilename = os.path.join(folder, \"output_philips.root\")\\n#filename = os.path.join(folder, \"output_picopet.root\")\\nf = uproot.open(filename)\\n\\n# print the list of trees\\nfor t in f:\\n    print(f\\'Tree {t}\\')\\n\\n# get the first tree and print the branches\\nhits = f[\\'Singles1\\']\\n\\narrays = hits.arrays([\"PostPosition_X\", \"PostPosition_Y\", \"PostPosition_Z\", \"TotalEnergyDeposit\",  \"GlobalTime\", \"LocalTime\", \"PreStepUniqueVolumeID\"], library=\"np\")\\n\\n# Convert to DataFrame manually\\ndf = pd.DataFrame({\\n    \"PostPosition_X\": arrays[\"PostPosition_X\"],\\n    \"PostPosition_Y\": arrays[\"PostPosition_Y\"],\\n    \"PostPosition_Z\": arrays[\"PostPosition_Z\"],\\n    \"TotalEnergyDeposit\": arrays[\"TotalEnergyDeposit\"],\\n    \"GlobalTime\": arrays[\"GlobalTime\"],\\n    \"LocalTime\": arrays[\"LocalTime\"],\\n    \"PreStepUniqueVolumeID\": arrays[\"PreStepUniqueVolumeID\"]\\n})\\n\\nprint(f\\'Number of hits : {hits.num_entries}\\')\\nfor b in hits:\\n    print(f\\'Branch {b.name}\\')\\n\\ndf.head()\\nprint(df.shape)'"
      ]
     },
     "execution_count": 55,
     "metadata": {},
     "output_type": "execute_result"
    }
   ],
   "source": [
    "'''#Using data from GATE\n",
    "\n",
    "# The following command display the current working directory (where jupyter has been launched)\n",
    "# and select the output folder\n",
    "cwd = os.getcwd()\n",
    "folder = Path(cwd) / \"output\"\n",
    "if (not folder.is_dir()):\n",
    "    print(f\"ERROR: {folder} is not a folder.\")\n",
    "print(f\"The Current Working Directory (CWD) is {cwd}\")\n",
    "print(f\"The output folder is {folder}\")\n",
    "\n",
    "#filename = os.path.join(folder, \"output_pet.root\")\n",
    "filename = os.path.join(folder, \"output_philips.root\")\n",
    "#filename = os.path.join(folder, \"output_picopet.root\")\n",
    "f = uproot.open(filename)\n",
    "\n",
    "# print the list of trees\n",
    "for t in f:\n",
    "    print(f'Tree {t}')\n",
    "\n",
    "# get the first tree and print the branches\n",
    "hits = f['Singles1']\n",
    "\n",
    "arrays = hits.arrays([\"PostPosition_X\", \"PostPosition_Y\", \"PostPosition_Z\", \"TotalEnergyDeposit\",  \"GlobalTime\", \"LocalTime\", \"PreStepUniqueVolumeID\"], library=\"np\")\n",
    "\n",
    "# Convert to DataFrame manually\n",
    "df = pd.DataFrame({\n",
    "    \"PostPosition_X\": arrays[\"PostPosition_X\"],\n",
    "    \"PostPosition_Y\": arrays[\"PostPosition_Y\"],\n",
    "    \"PostPosition_Z\": arrays[\"PostPosition_Z\"],\n",
    "    \"TotalEnergyDeposit\": arrays[\"TotalEnergyDeposit\"],\n",
    "    \"GlobalTime\": arrays[\"GlobalTime\"],\n",
    "    \"LocalTime\": arrays[\"LocalTime\"],\n",
    "    \"PreStepUniqueVolumeID\": arrays[\"PreStepUniqueVolumeID\"]\n",
    "})\n",
    "\n",
    "print(f'Number of hits : {hits.num_entries}')\n",
    "for b in hits:\n",
    "    print(f'Branch {b.name}')\n",
    "\n",
    "df.head()\n",
    "print(df.shape)'''"
   ]
  },
  {
   "cell_type": "code",
   "execution_count": 56,
   "metadata": {},
   "outputs": [],
   "source": [
    "def find_coincidences(df: pd.DataFrame, time_window: float) -> pd.DataFrame:\n",
    "    \"\"\"\n",
    "    Find photon coincidences within a given time window.\n",
    "    \n",
    "    Parameters:\n",
    "        df (pd.DataFrame): DataFrame containing photon measurements with the columns:\n",
    "                           [\"PostPosition_X\", \"PostPosition_Y\", \"PostPosition_Z\",\n",
    "                            \"TotalEnergyDeposit\", \"GlobalTime\", \"LocalTime\"].\n",
    "        time_window (float): Maximum allowed time difference between photon pairs.\n",
    "        \n",
    "    Returns:\n",
    "        pd.DataFrame: DataFrame where each row represents a coincidence pair.\n",
    "                      The columns are the original attributes suffixed with _1 and _2.\n",
    "    \"\"\"\n",
    "    # Sort the dataframe by GlobalTime for an efficient sliding-window search.\n",
    "    df_sorted = df.sort_values(\"GlobalTime\").reset_index(drop=True)\n",
    "    times = df_sorted[\"GlobalTime\"].values\n",
    "    energies = df_sorted[\"TotalEnergyDeposit\"]\n",
    "    n = len(df_sorted)\n",
    "    coincidences = []\n",
    "\n",
    "    # Define energy window\n",
    "    energy_lower = 0.511 - 0.030\n",
    "    energy_upper = 0.511 + 0.030\n",
    "\n",
    "    #With energy limit\n",
    "    '''for i in range(n):\n",
    "        j = np.searchsorted(times, times[i] + time_window, side='right')\n",
    "\n",
    "        if energy_lower <= energies[i] <= energy_upper:\n",
    "            for k in range(i + 1, j):\n",
    "                if energy_lower <= energies[k] <= energy_upper:\n",
    "                    pair = {}\n",
    "                    for col in df_sorted.columns:\n",
    "                        pair[f\"{col}_1\"] = df_sorted.iloc[i][col]\n",
    "                        pair[f\"{col}_2\"] = df_sorted.iloc[k][col]\n",
    "\n",
    "                    pair[\"TOF_Difference\"] = df_sorted.iloc[k][\"GlobalTime\"] - df_sorted.iloc[i][\"GlobalTime\"]\n",
    "                    coincidences.append(pair)'''\n",
    "    \n",
    "    #Without energy cut\n",
    "    for i in range(n):\n",
    "        j = np.searchsorted(times, times[i] + time_window, side='right')\n",
    "\n",
    "        for k in range(i + 1, j):\n",
    "            pair = {}\n",
    "            for col in df_sorted.columns:\n",
    "                pair[f\"{col}_1\"] = df_sorted.iloc[i][col]\n",
    "                pair[f\"{col}_2\"] = df_sorted.iloc[k][col]\n",
    "\n",
    "            pair[\"TOF_Difference\"] = df_sorted.iloc[k][\"GlobalTime\"] - df_sorted.iloc[i][\"GlobalTime\"]\n",
    "            coincidences.append(pair)\n",
    "\n",
    "\n",
    "    \n",
    "    return pd.DataFrame(coincidences)"
   ]
  },
  {
   "cell_type": "code",
   "execution_count": 57,
   "metadata": {},
   "outputs": [
    {
     "name": "stdout",
     "output_type": "stream",
     "text": [
      "   PostPosition_X_1  PostPosition_X_2  PostPosition_Y_1  PostPosition_Y_2  \\\n",
      "0       -329.836446        182.083625       -211.706518       -350.352578   \n",
      "1        321.411446       -352.261446        226.299046       -172.865279   \n",
      "2        370.686446       -380.268989        140.952243        -97.946037   \n",
      "3         -6.425000         59.275000        391.500000       -391.500000   \n",
      "4        319.411446       -167.048543       -229.763148       -355.824900   \n",
      "\n",
      "   PostPosition_Z_1  PostPosition_Z_2  TotalEnergyDeposit_1  \\\n",
      "0              6.00            -51.70              0.236147   \n",
      "1            -34.85             59.70              0.510999   \n",
      "2             42.85            -26.85              0.510999   \n",
      "3             34.85            -67.70              0.510999   \n",
      "4            -42.85            -59.70              0.180787   \n",
      "\n",
      "   TotalEnergyDeposit_2  GlobalTime_1  GlobalTime_2  TOF_Difference  \n",
      "0              0.134617     37.950537     38.429123        0.478586  \n",
      "1              0.510999     40.084636     40.493235        0.408599  \n",
      "2              0.510999    129.899448    130.318348        0.418900  \n",
      "3              0.510999    136.294474    136.513936        0.219462  \n",
      "4              0.370161    160.809567    161.040019        0.230452  \n",
      "Number of coincidences =  4227762\n"
     ]
    }
   ],
   "source": [
    "time_window = 1.5  # example time window value\n",
    "coincidences_df = find_coincidences(df, time_window)\n",
    "print(coincidences_df.head())\n",
    "print(\"Number of coincidences =  \" + str(coincidences_df.shape[0]))"
   ]
  },
  {
   "cell_type": "code",
   "execution_count": 58,
   "metadata": {},
   "outputs": [],
   "source": [
    "#Defining the 3D Voxel grid\n",
    "\n",
    "vox_size = 2 # Defining voxel size (mm)\n",
    "volume_mm = (200, 200, 32)\n",
    "\n",
    "voxDim = tuple(int(length / vox_size) for length in volume_mm) # (150, 150, 16)\n",
    "\n",
    "voxel_grid = np.ones(voxDim, dtype=np.float32)\n",
    "#print(voxel_grid)\n",
    "\n",
    "voxel_origin_mm = np.array([ \n",
    "    -volume_mm[0] / 2 + vox_size, \n",
    "    -volume_mm[1] / 2 + vox_size,\n",
    "    -volume_mm[2] / 2 + vox_size\n",
    "]) #centres the voxel grid around (0, 0, 0) in world coordinates\n",
    "\n",
    "time_threshold_ns = 0.7 #chose this because it should be the max time difference if a decay occurs at the circumference of the r = 100mm circle\n",
    "#ensures only physically plausible pairs are considered\n",
    "\n",
    "##Loop over LORs and find interesting voxels\n"
   ]
  },
  {
   "cell_type": "code",
   "execution_count": 59,
   "metadata": {},
   "outputs": [],
   "source": [
    "def clip_lor_to_grid(p1, p2, origin, voxel_size, grid_shape):\n",
    "    grid_min = origin\n",
    "    grid_max = origin + np.array(grid_shape) * voxel_size\n",
    "    direction = p2 - p1\n",
    "\n",
    "    with np.errstate(divide='ignore', invalid='ignore'):\n",
    "        tmin = (grid_min - p1) / direction\n",
    "        tmax = (grid_max - p1) / direction\n",
    "\n",
    "    t1 = np.minimum(tmin, tmax)\n",
    "    t2 = np.maximum(tmin, tmax)\n",
    "\n",
    "    t_enter = np.nanmax(t1)\n",
    "    t_exit = np.nanmin(t2)\n",
    "\n",
    "    if t_enter > t_exit or t_exit < 0 or t_enter > 1:\n",
    "        return None, None  # no intersection\n",
    "\n",
    "    # Clamp to [0, 1] range of original segment\n",
    "    t0 = max(t_enter, 0)\n",
    "    t1 = min(t_exit, 1)\n",
    "\n",
    "    clipped_p1 = p1 + t0 * direction\n",
    "    clipped_p2 = p1 + t1 * direction\n",
    "\n",
    "    return clipped_p1, clipped_p2\n"
   ]
  },
  {
   "cell_type": "code",
   "execution_count": 60,
   "metadata": {},
   "outputs": [],
   "source": [
    "#Function to sample along LOR - find out which voxels a LOR goes through and also weight it based on how much of the voxel it passes through\n",
    "\n",
    "def get_voxel_indices(p1, p2, origin, voxel_size, grid_shape):\n",
    "\n",
    "    '''This function computes which voxels the LOR intersects with and how far the LOR travels in each voxel'''\n",
    "\n",
    "    #Convert the start and end points form mm into voxel space\n",
    "    p1_voxel = (p1 - origin) / voxel_size\n",
    "    p2_voxel = (p2 - origin) / voxel_size\n",
    "\n",
    "    #Define LOR direction and total length\n",
    "    direction = p2_voxel - p1_voxel\n",
    "    length_total = np.linalg.norm(direction)\n",
    "    if length_total == 0:\n",
    "        return []\n",
    "    \n",
    "    #Normalise the direction \n",
    "    direction_unit = direction / length_total\n",
    "\n",
    "    #Prepare voxel grid and start at the correct voxel \n",
    "    nx, ny, nz = grid_shape\n",
    "    current_voxel = np.floor(p1_voxel).astype(int)\n",
    "\n",
    "    voxels = []\n",
    "    t_max = np.zeros(3)\n",
    "    t_delta = np.zeros(3)\n",
    "    step = np.zeros(3, dtype=int)\n",
    "\n",
    "    for i in range(3):\n",
    "        if direction_unit[i] > 0:\n",
    "            step[i] = 1\n",
    "            next_voxel_boundary = (current_voxel[i] + 1) * 1.0\n",
    "        else:\n",
    "            step[i] = -1\n",
    "            next_voxel_boundary = current_voxel[i] * 1.0\n",
    "\n",
    "        if direction_unit[i] != 0:\n",
    "            t_max[i] = (next_voxel_boundary - p1_voxel[i]) / direction_unit[i]\n",
    "            t_delta[i] = abs(1.0 / direction_unit[i])\n",
    "        else:\n",
    "            t_max[i] = np.inf\n",
    "            t_delta[i] = np.inf\n",
    "            \n",
    "    t = 0.0\n",
    "    while t <= length_total:\n",
    "        i, j, k = current_voxel\n",
    "        if 0 <= i < nx and 0 <= j < ny and 0 <= k < nz:\n",
    "            t_next = min(t_max)\n",
    "            path_length = (t_next - t) * np.linalg.norm(voxel_size * direction_unit)\n",
    "            voxels.append((i, j, k, path_length))\n",
    "        else:\n",
    "            break  # outside grid\n",
    "\n",
    "        # Advance to next voxel\n",
    "        axis = np.argmin(t_max)\n",
    "        t = t_max[axis]\n",
    "        t_max[axis] += t_delta[axis]\n",
    "        current_voxel[axis] += step[axis]\n",
    "\n",
    "    return voxels\n",
    "\n"
   ]
  },
  {
   "cell_type": "code",
   "execution_count": 61,
   "metadata": {},
   "outputs": [],
   "source": [
    "#Getting LOR list\n",
    "lor_list = []\n",
    "\n",
    "for _, row in coincidences_df.iterrows():\n",
    "    p1 = np.array([row[\"PostPosition_X_1\"], row[\"PostPosition_Y_1\"], row[\"PostPosition_Z_1\"]])\n",
    "    p2 = np.array([row[\"PostPosition_X_2\"], row[\"PostPosition_Y_2\"], row[\"PostPosition_Z_2\"]])\n",
    "    lor_list.append((p1, p2))"
   ]
  },
  {
   "cell_type": "code",
   "execution_count": 62,
   "metadata": {},
   "outputs": [],
   "source": [
    "#Creating an empty sensitivity map\n",
    "measured_dat = np.zeros_like(voxel_grid)\n",
    "\n",
    "for p1, p2 in lor_list:\n",
    "\n",
    "    p1_clipped, p2_clipped = clip_lor_to_grid(p1, p2, voxel_origin_mm, vox_size, voxDim)\n",
    "    if p1_clipped is None:\n",
    "        continue\n",
    "    voxels = get_voxel_indices(p1_clipped, p2_clipped, voxel_origin_mm, vox_size, voxDim)\n",
    "\n",
    "    if voxels:  # only process if at least one voxel was hit\n",
    "        for i, j, k, path_length in voxels:\n",
    "            measured_dat[i, j, k] += path_length  # or += 1 if you want constant weight\n"
   ]
  },
  {
   "cell_type": "code",
   "execution_count": 63,
   "metadata": {},
   "outputs": [
    {
     "data": {
      "text/plain": [
       "<matplotlib.colorbar.Colorbar at 0x3d3cc1090>"
      ]
     },
     "execution_count": 63,
     "metadata": {},
     "output_type": "execute_result"
    },
    {
     "name": "stderr",
     "output_type": "stream",
     "text": [
      "/Users/jemmabagg/Library/Python/3.11/lib/python/site-packages/IPython/core/pylabtools.py:152: MatplotlibDeprecationWarning: savefig() got unexpected keyword argument \"orientation\" which is no longer supported as of 3.3 and will become an error two minor releases later\n",
      "  fig.canvas.print_figure(bytes_io, **kw)\n",
      "/Users/jemmabagg/Library/Python/3.11/lib/python/site-packages/IPython/core/pylabtools.py:152: MatplotlibDeprecationWarning: savefig() got unexpected keyword argument \"facecolor\" which is no longer supported as of 3.3 and will become an error two minor releases later\n",
      "  fig.canvas.print_figure(bytes_io, **kw)\n",
      "/Users/jemmabagg/Library/Python/3.11/lib/python/site-packages/IPython/core/pylabtools.py:152: MatplotlibDeprecationWarning: savefig() got unexpected keyword argument \"edgecolor\" which is no longer supported as of 3.3 and will become an error two minor releases later\n",
      "  fig.canvas.print_figure(bytes_io, **kw)\n",
      "/Users/jemmabagg/Library/Python/3.11/lib/python/site-packages/IPython/core/pylabtools.py:152: MatplotlibDeprecationWarning: savefig() got unexpected keyword argument \"bbox_inches_restore\" which is no longer supported as of 3.3 and will become an error two minor releases later\n",
      "  fig.canvas.print_figure(bytes_io, **kw)\n"
     ]
    },
    {
     "data": {
      "image/png": "[encoded data removed]",
      "text/plain": [
       "<Figure size 640x480 with 2 Axes>"
      ]
     },
     "metadata": {},
     "output_type": "display_data"
    }
   ],
   "source": [
    "#Sensitivity map, shows how often voxel j is seen by all LORs\n",
    "\n",
    "plt.imshow(np.sum(measured_dat, axis=2).T, cmap='hot', origin='lower')\n",
    "plt.title(\"Sensitivity Map Summed Over Z\")\n",
    "plt.colorbar(label=\"Total Hits\")"
   ]
  },
  {
   "cell_type": "code",
   "execution_count": 64,
   "metadata": {},
   "outputs": [
    {
     "name": "stdout",
     "output_type": "stream",
     "text": [
      "Starting iteration 1\n",
      "Starting iteration 2\n",
      "Starting iteration 3\n",
      "Starting iteration 4\n",
      "Starting iteration 5\n",
      "Starting iteration 6\n",
      "Starting iteration 7\n"
     ]
    },
    {
     "ename": "KeyboardInterrupt",
     "evalue": "",
     "output_type": "error",
     "traceback": [
      "\u001b[0;31m---------------------------------------------------------------------------\u001b[0m",
      "\u001b[0;31mKeyboardInterrupt\u001b[0m                         Traceback (most recent call last)",
      "Cell \u001b[0;32mIn[64], line 21\u001b[0m\n\u001b[1;32m     19\u001b[0m \u001b[38;5;28;01mif\u001b[39;00m p1_clipped \u001b[38;5;129;01mis\u001b[39;00m \u001b[38;5;28;01mNone\u001b[39;00m:\n\u001b[1;32m     20\u001b[0m     \u001b[38;5;28;01mcontinue\u001b[39;00m\n\u001b[0;32m---> 21\u001b[0m voxels \u001b[38;5;241m=\u001b[39m \u001b[43mget_voxel_indices\u001b[49m\u001b[43m(\u001b[49m\u001b[43mp1_clipped\u001b[49m\u001b[43m,\u001b[49m\u001b[43m \u001b[49m\u001b[43mp2_clipped\u001b[49m\u001b[43m,\u001b[49m\u001b[43m \u001b[49m\u001b[43mvoxel_origin_mm\u001b[49m\u001b[43m,\u001b[49m\u001b[43m \u001b[49m\u001b[43mvox_size\u001b[49m\u001b[43m,\u001b[49m\u001b[43m \u001b[49m\u001b[43mvoxDim\u001b[49m\u001b[43m)\u001b[49m\n\u001b[1;32m     23\u001b[0m \u001b[38;5;28;01mif\u001b[39;00m \u001b[38;5;129;01mnot\u001b[39;00m voxels:\n\u001b[1;32m     24\u001b[0m     \u001b[38;5;28;01mcontinue\u001b[39;00m\n",
      "Cell \u001b[0;32mIn[60], line 49\u001b[0m, in \u001b[0;36mget_voxel_indices\u001b[0;34m(p1, p2, origin, voxel_size, grid_shape)\u001b[0m\n\u001b[1;32m     47\u001b[0m \u001b[38;5;28;01mif\u001b[39;00m \u001b[38;5;241m0\u001b[39m \u001b[38;5;241m<\u001b[39m\u001b[38;5;241m=\u001b[39m i \u001b[38;5;241m<\u001b[39m nx \u001b[38;5;129;01mand\u001b[39;00m \u001b[38;5;241m0\u001b[39m \u001b[38;5;241m<\u001b[39m\u001b[38;5;241m=\u001b[39m j \u001b[38;5;241m<\u001b[39m ny \u001b[38;5;129;01mand\u001b[39;00m \u001b[38;5;241m0\u001b[39m \u001b[38;5;241m<\u001b[39m\u001b[38;5;241m=\u001b[39m k \u001b[38;5;241m<\u001b[39m nz:\n\u001b[1;32m     48\u001b[0m     t_next \u001b[38;5;241m=\u001b[39m \u001b[38;5;28mmin\u001b[39m(t_max)\n\u001b[0;32m---> 49\u001b[0m     path_length \u001b[38;5;241m=\u001b[39m (t_next \u001b[38;5;241m-\u001b[39m t) \u001b[38;5;241m*\u001b[39m \u001b[43mnp\u001b[49m\u001b[38;5;241;43m.\u001b[39;49m\u001b[43mlinalg\u001b[49m\u001b[38;5;241;43m.\u001b[39;49m\u001b[43mnorm\u001b[49m\u001b[43m(\u001b[49m\u001b[43mvoxel_size\u001b[49m\u001b[43m \u001b[49m\u001b[38;5;241;43m*\u001b[39;49m\u001b[43m \u001b[49m\u001b[43mdirection_unit\u001b[49m\u001b[43m)\u001b[49m\n\u001b[1;32m     50\u001b[0m     voxels\u001b[38;5;241m.\u001b[39mappend((i, j, k, path_length))\n\u001b[1;32m     51\u001b[0m \u001b[38;5;28;01melse\u001b[39;00m:\n",
      "File \u001b[0;32m/Library/Frameworks/Python.framework/Versions/3.11/lib/python3.11/site-packages/numpy/linalg/linalg.py:2553\u001b[0m, in \u001b[0;36mnorm\u001b[0;34m(x, ord, axis, keepdims)\u001b[0m\n\u001b[1;32m   2551\u001b[0m \u001b[38;5;28;01melse\u001b[39;00m:\n\u001b[1;32m   2552\u001b[0m     sqnorm \u001b[38;5;241m=\u001b[39m x\u001b[38;5;241m.\u001b[39mdot(x)\n\u001b[0;32m-> 2553\u001b[0m ret \u001b[38;5;241m=\u001b[39m \u001b[43msqrt\u001b[49m\u001b[43m(\u001b[49m\u001b[43msqnorm\u001b[49m\u001b[43m)\u001b[49m\n\u001b[1;32m   2554\u001b[0m \u001b[38;5;28;01mif\u001b[39;00m keepdims:\n\u001b[1;32m   2555\u001b[0m     ret \u001b[38;5;241m=\u001b[39m ret\u001b[38;5;241m.\u001b[39mreshape(ndim\u001b[38;5;241m*\u001b[39m[\u001b[38;5;241m1\u001b[39m])\n",
      "\u001b[0;31mKeyboardInterrupt\u001b[0m: "
     ]
    }
   ],
   "source": [
    "from scipy.ndimage import gaussian_filter\n",
    "\n",
    "# --- Parameters ---\n",
    "num_iterations = 10\n",
    "epsilon = 1e-6  # small constant to avoid division by 0\n",
    "\n",
    "# --- Initialize ---\n",
    "image_estimate = np.ones_like(voxel_grid)\n",
    "#image_estimate /= np.sum(image_estimate)  # Option A: normalize initial guess\n",
    "\n",
    "\n",
    "for iteration in range(num_iterations):\n",
    "    print(f\"Starting iteration {iteration + 1}\")\n",
    "    numerator = np.zeros_like(voxel_grid)\n",
    "\n",
    "    for p1, p2 in lor_list:\n",
    "\n",
    "        p1_clipped, p2_clipped = clip_lor_to_grid(p1, p2, voxel_origin_mm, vox_size, voxDim)\n",
    "        if p1_clipped is None:\n",
    "            continue\n",
    "        voxels = get_voxel_indices(p1_clipped, p2_clipped, voxel_origin_mm, vox_size, voxDim)\n",
    "\n",
    "        if not voxels:\n",
    "            continue\n",
    "\n",
    "        forward_sum = sum(image_estimate[i, j, k] * l for (i, j, k, l) in voxels) + epsilon #forward project x^k\n",
    "        measured_val = sum(measured_dat[i, j, k] * l for (i, j, k, l) in voxels)\n",
    "\n",
    "        correction = measured_val / (forward_sum) # m / Ax^k\n",
    "\n",
    "        for (i, j, k, l) in voxels: #backproject: A^T (1 / Ax^k)\n",
    "            numerator[i, j, k] += correction * l\n",
    "\n",
    "    ratio = numerator / (measured_dat + epsilon) #normalise: 1/A^T1 * A^T(1/Ax^k)\n",
    "    image_estimate = image_estimate * ratio # getting x^(k+1)\n"
   ]
  },
  {
   "cell_type": "code",
   "execution_count": 65,
   "metadata": {},
   "outputs": [
    {
     "data": {
      "image/png": "[encoded data removed]",
      "text/plain": [
       "<Figure size 600x600 with 1 Axes>"
      ]
     },
     "metadata": {},
     "output_type": "display_data"
    },
    {
     "name": "stderr",
     "output_type": "stream",
     "text": [
      "/var/folders/qv/434ty_nj1bdfm_6l1bc5ppg80000gn/T/ipykernel_69947/3187638220.py:13: MatplotlibDeprecationWarning: savefig() got unexpected keyword argument \"facecolor\" which is no longer supported as of 3.3 and will become an error two minor releases later\n",
      "  fig.savefig(\"image_estimate.png\", dpi=300)\n",
      "/var/folders/qv/434ty_nj1bdfm_6l1bc5ppg80000gn/T/ipykernel_69947/3187638220.py:13: MatplotlibDeprecationWarning: savefig() got unexpected keyword argument \"edgecolor\" which is no longer supported as of 3.3 and will become an error two minor releases later\n",
      "  fig.savefig(\"image_estimate.png\", dpi=300)\n",
      "/var/folders/qv/434ty_nj1bdfm_6l1bc5ppg80000gn/T/ipykernel_69947/3187638220.py:13: MatplotlibDeprecationWarning: savefig() got unexpected keyword argument \"orientation\" which is no longer supported as of 3.3 and will become an error two minor releases later\n",
      "  fig.savefig(\"image_estimate.png\", dpi=300)\n",
      "/var/folders/qv/434ty_nj1bdfm_6l1bc5ppg80000gn/T/ipykernel_69947/3187638220.py:13: MatplotlibDeprecationWarning: savefig() got unexpected keyword argument \"bbox_inches_restore\" which is no longer supported as of 3.3 and will become an error two minor releases later\n",
      "  fig.savefig(\"image_estimate.png\", dpi=300)\n"
     ]
    }
   ],
   "source": [
    "# Generate your final image array\n",
    "projection_image = np.sum(image_estimate, axis=2)\n",
    "\n",
    "# Plot it in a clean figure\n",
    "fig = plt.figure(figsize=(6, 6), frameon=False)\n",
    "ax = plt.Axes(fig, [0., 0., 1., 1.])  # Full canvas usage\n",
    "ax.set_axis_off()\n",
    "fig.add_axes(ax)\n",
    "ax.imshow(projection_image.T, cmap='gray', origin='lower')\n",
    "plt.show()\n",
    "\n",
    "# Save the image-only output\n",
    "fig.savefig(\"image_estimate.png\", dpi=300)\n",
    "plt.close(fig)\n"
   ]
  },
  {
   "cell_type": "code",
   "execution_count": null,
   "metadata": {},
   "outputs": [
    {
     "data": {
      "text/plain": [
       "'def compute_sinogram(coincidences_df: pd.DataFrame, bins_theta: int = 180, bins_r: int = 180,\\n                     bins_tof: int = 50, tof_resolution: float = 300e-12, use_tof: bool = False):\\n    \"\"\"\\n    Compute the sinogram from coincidence pairs.\\n\\n    Each line-of-response (LOR) is parameterized by:\\n      - theta: the angle (in degrees) of the normal to the LOR (in [0,180))\\n      - r: the perpendicular distance from the origin to the LOR.\\n\\n    Parameters:\\n      coincidences_df: DataFrame with coincidence pairs, containing columns:\\n         \\'PostPosition_X_1\\', \\'PostPosition_Y_1\\',\\n         \\'PostPosition_X_2\\', \\'PostPosition_Y_2\\'.\\n      bins_theta: Number of bins for theta (angles in degrees).\\n      bins_r: Number of bins for r (distance).\\n      bins_tof: Number of bins for TOF (if use_tof=True).\\n      tof_resolution: Detector timing resolution in seconds (e.g., 300 ps).\\n      use_tof: Whether to include TOF binning.\\n\\n    Returns:\\n      sinogram: 2D numpy array (shape: [bins_r, bins_theta]).\\n      theta_centers: 1D array of theta bin centers (in degrees).\\n      r_edges: 1D array of r bin edges.\\n    \"\"\"\\n    #Plotting the TOF 3D Sinogram\\n    thetas = []\\n    rs = []\\n    tofs = []\\n    \\n    # Calculate sinogram parameters for each coincidence pair.\\n    for _, row in coincidences_df.iterrows():\\n        x1 = row[\"PostPosition_X_1\"]\\n        y1 = row[\"PostPosition_Y_1\"]\\n        x2 = row[\"PostPosition_X_2\"]\\n        y2 = row[\"PostPosition_Y_2\"]\\n        \\n        # Midpoint of the LOR\\n        xm = (x1 + x2) / 2.0\\n        ym = (y1 + y2) / 2.0\\n        \\n        # Orientation of the LOR.\\n        phi = np.arctan2(y2 - y1, x2 - x1)\\n        \\n        # Sinogram angle: the normal\\'s angle (wrapped to [0, pi)).\\n        theta = (phi + np.pi/2) % np.pi\\n        # Perpendicular distance from the origin.\\n        r = xm * np.cos(theta) + ym * np.sin(theta)\\n        \\n        thetas.append(theta)\\n        rs.append(r)\\n        tofs.append(row[\"TOF_Difference\"]) #Storing the TOF differences\\n\\n    # Convert lists to NumPy arrays\\n    thetas = np.array(np.degrees(thetas))\\n    rs = np.array(rs)\\n    tofs = np.array(tofs)\\n\\n    combined = np.column_stack((rs, thetas, tofs))\\n    #print(combined.shape)\\n\\n    # Compute the 3D TOF-aware sinogram\\n    sinogram, edges = np.histogramdd(combined, bins=[bins_theta, bins_r, bins_tof])\\n    \\n    \\n    # Choose a tof index (e.g., middle theta bin)\\n    tof_index = sinogram.shape[2] // 2\\n\\n    # Extract sinogram slice for the selected theta bin\\n    sinogram_slice = sinogram[:, :, tof_index]\\n\\n    # Plot TOF sinogram slice\\n    plt.figure(figsize=(8, 6))\\n    plt.imshow(sinogram_slice.T, aspect=\\'auto\\', origin=\\'lower\\',\\n            extent=[edges[1].min(), edges[1].max(), edges[2].min(), edges[2].max()], cmap=\\'gray\\')\\n\\n    plt.xlabel(\"Radial Distance r (mm)\")\\n    plt.ylabel(\"Theta (radians)\")\\n    plt.title(r\"TOF Sinogram at $\\\\Delta{t}$ = \" f\"{edges[2][tof_index]:.2f} s\")\\n    plt.colorbar(label=\"Counts\")\\n    plt.show()\\n    \\n\\n    #Collapse TOF dimension by summing over TOF bins\\n    sinogram_2d = np.sum(sinogram, axis = 2)\\n    print(\"2D Sinogram Shape:\", sinogram_2d.shape)\\n\\n    theta_centres = (edges[1][:-1] + edges[1][1:]) / 2\\n\\n    if not use_tof:\\n        return sinogram_2d, theta_centres\\n    else:\\n        #Define TOF resolution (FWHM -> standard deviation)\\n        tof_fwhm = tof_resolution * 3e8 / 2\\n        sigma_tof = tof_fwhm / 2.355 # FWHM - SD\\n\\n        #Initialize weighted sinogram\\n        sinogram_weighted = np.zeros_like(sinogram_2d)\\n\\n        #Apply the Gaussian weighting over TOF bins\\n        for i, tof_bin in enumerate(edges[2]):\\n            if i == 50: \\n                break\\n            #r_bin = (3e8 * tof_bin) / 2\\n            weight = np.exp(-((tof_bin)**2) / (2 * sigma_tof **2))\\n            sinogram_weighted += weight * sinogram[:, :, i] # Apply TOF weight\\n\\n        return sinogram_weighted, theta_centres'"
      ]
     },
     "execution_count": 47,
     "metadata": {},
     "output_type": "execute_result"
    }
   ],
   "source": [
    "'''def compute_sinogram(coincidences_df: pd.DataFrame, bins_theta: int = 180, bins_r: int = 180,\n",
    "                     bins_tof: int = 50, tof_resolution: float = 300e-12, use_tof: bool = False):\n",
    "    \"\"\"\n",
    "    Compute the sinogram from coincidence pairs.\n",
    "\n",
    "    Each line-of-response (LOR) is parameterized by:\n",
    "      - theta: the angle (in degrees) of the normal to the LOR (in [0,180))\n",
    "      - r: the perpendicular distance from the origin to the LOR.\n",
    "\n",
    "    Parameters:\n",
    "      coincidences_df: DataFrame with coincidence pairs, containing columns:\n",
    "         'PostPosition_X_1', 'PostPosition_Y_1',\n",
    "         'PostPosition_X_2', 'PostPosition_Y_2'.\n",
    "      bins_theta: Number of bins for theta (angles in degrees).\n",
    "      bins_r: Number of bins for r (distance).\n",
    "      bins_tof: Number of bins for TOF (if use_tof=True).\n",
    "      tof_resolution: Detector timing resolution in seconds (e.g., 300 ps).\n",
    "      use_tof: Whether to include TOF binning.\n",
    "\n",
    "    Returns:\n",
    "      sinogram: 2D numpy array (shape: [bins_r, bins_theta]).\n",
    "      theta_centers: 1D array of theta bin centers (in degrees).\n",
    "      r_edges: 1D array of r bin edges.\n",
    "    \"\"\"\n",
    "    #Plotting the TOF 3D Sinogram\n",
    "    thetas = []\n",
    "    rs = []\n",
    "    tofs = []\n",
    "    \n",
    "    # Calculate sinogram parameters for each coincidence pair.\n",
    "    for _, row in coincidences_df.iterrows():\n",
    "        x1 = row[\"PostPosition_X_1\"]\n",
    "        y1 = row[\"PostPosition_Y_1\"]\n",
    "        x2 = row[\"PostPosition_X_2\"]\n",
    "        y2 = row[\"PostPosition_Y_2\"]\n",
    "        \n",
    "        # Midpoint of the LOR\n",
    "        xm = (x1 + x2) / 2.0\n",
    "        ym = (y1 + y2) / 2.0\n",
    "        \n",
    "        # Orientation of the LOR.\n",
    "        phi = np.arctan2(y2 - y1, x2 - x1)\n",
    "        \n",
    "        # Sinogram angle: the normal's angle (wrapped to [0, pi)).\n",
    "        theta = (phi + np.pi/2) % np.pi\n",
    "        # Perpendicular distance from the origin.\n",
    "        r = xm * np.cos(theta) + ym * np.sin(theta)\n",
    "        \n",
    "        thetas.append(theta)\n",
    "        rs.append(r)\n",
    "        tofs.append(row[\"TOF_Difference\"]) #Storing the TOF differences\n",
    "\n",
    "    # Convert lists to NumPy arrays\n",
    "    thetas = np.array(np.degrees(thetas))\n",
    "    rs = np.array(rs)\n",
    "    tofs = np.array(tofs)\n",
    "\n",
    "    combined = np.column_stack((rs, thetas, tofs))\n",
    "    #print(combined.shape)\n",
    "\n",
    "    # Compute the 3D TOF-aware sinogram\n",
    "    sinogram, edges = np.histogramdd(combined, bins=[bins_theta, bins_r, bins_tof])\n",
    "    \n",
    "    \n",
    "    # Choose a tof index (e.g., middle theta bin)\n",
    "    tof_index = sinogram.shape[2] // 2\n",
    "\n",
    "    # Extract sinogram slice for the selected theta bin\n",
    "    sinogram_slice = sinogram[:, :, tof_index]\n",
    "\n",
    "    # Plot TOF sinogram slice\n",
    "    plt.figure(figsize=(8, 6))\n",
    "    plt.imshow(sinogram_slice.T, aspect='auto', origin='lower',\n",
    "            extent=[edges[1].min(), edges[1].max(), edges[2].min(), edges[2].max()], cmap='gray')\n",
    "\n",
    "    plt.xlabel(\"Radial Distance r (mm)\")\n",
    "    plt.ylabel(\"Theta (radians)\")\n",
    "    plt.title(r\"TOF Sinogram at $\\Delta{t}$ = \" f\"{edges[2][tof_index]:.2f} s\")\n",
    "    plt.colorbar(label=\"Counts\")\n",
    "    plt.show()\n",
    "    \n",
    "\n",
    "    #Collapse TOF dimension by summing over TOF bins\n",
    "    sinogram_2d = np.sum(sinogram, axis = 2)\n",
    "    print(\"2D Sinogram Shape:\", sinogram_2d.shape)\n",
    "\n",
    "    theta_centres = (edges[1][:-1] + edges[1][1:]) / 2\n",
    "\n",
    "    if not use_tof:\n",
    "        return sinogram_2d, theta_centres\n",
    "    else:\n",
    "        #Define TOF resolution (FWHM -> standard deviation)\n",
    "        tof_fwhm = tof_resolution * 3e8 / 2\n",
    "        sigma_tof = tof_fwhm / 2.355 # FWHM - SD\n",
    "\n",
    "        #Initialize weighted sinogram\n",
    "        sinogram_weighted = np.zeros_like(sinogram_2d)\n",
    "\n",
    "        #Apply the Gaussian weighting over TOF bins\n",
    "        for i, tof_bin in enumerate(edges[2]):\n",
    "            if i == 50: \n",
    "                break\n",
    "            #r_bin = (3e8 * tof_bin) / 2\n",
    "            weight = np.exp(-((tof_bin)**2) / (2 * sigma_tof **2))\n",
    "            sinogram_weighted += weight * sinogram[:, :, i] # Apply TOF weight\n",
    "\n",
    "        return sinogram_weighted, theta_centres'''"
   ]
  },
  {
   "cell_type": "code",
   "execution_count": null,
   "metadata": {},
   "outputs": [
    {
     "data": {
      "text/plain": [
       "'from skimage.draw import disk\\n\\nsinogram, theta_centers = compute_sinogram(coincidences_df, bins_theta=360, bins_r=180, use_tof=True)\\n\\nimage_shape = (360, 360)\\nazi_angles = theta_centers\\n\\nfig, axs = plt.subplots(1,2, figsize=(10,5))\\n\\n#axs[0].imshow(true_object, cmap=\"Greys_r\")\\n#axs[0].set_title(\\'Object\\')\\n\\naxs[0].imshow(sinogram.T, cmap=\"Greys_r\") #transpose of sinogram so angle is on y-axis\\naxs[0].set_title(\"Sinogram\")\\n\\n#Define reconstructed image\\nmlem_rec = np.ones(image_shape) #(x^k), iteration 0 (k=0)\\nmask = np.zeros(image_shape, dtype=bool)\\nrr, cc = disk((image_shape[0] // 2, image_shape[1] // 2), image_shape[0] // 2)\\nmask[rr, cc] = True\\nmlem_rec *= mask\\nsino_ones = np.ones(sinogram.shape)\\nsens_image = iradon(sino_ones, azi_angles, circle=True, filter_name=None)\\n\\nfor iter in range(20):  \\n    fp = radon(mlem_rec, azi_angles, circle=True) #Forward projection of mlem_rec at iteration k (A x^k)\\n    ratio = sinogram / (fp + 0.000001) #ratio sinogram, tells you how off the estimate was\\n    correction = iradon(ratio, azi_angles, circle=True, filter_name=None) / sens_image # No filter because we are just getting the transpose A^T\\n\\n    axs[1].imshow(mlem_rec, cmap=\"Greys_r\")\\n    axs[1].set_title(\"MLEM recon\")\\n\\n    #axs[1, 1].imshow(fp.T, cmap=\"Greys_r\")\\n    #axs[1, 1].set_title(\"FP of recon\")\\n\\n    #axs[0, 2].imshow(ratio.T, cmap=\"Greys_r\")\\n    #axs[0, 2].set_title(\"Ratio Sinogram\")\\n\\n    #axs[1, 2].imshow(correction, cmap=\"Greys_r\")\\n    #axs[1, 2].set_title(\"BP of ratio\")\\n\\n    mlem_rec = mlem_rec * correction\\n\\n    axs[1].imshow(mlem_rec, cmap=\"Greys_r\")\\n    axs[1].set_title(\"MLEM Recon image It=%d\" % (iter+1))\\n    display(fig)\\n    clear_output(wait = True)\\n    plt.pause(0.1)'"
      ]
     },
     "execution_count": 48,
     "metadata": {},
     "output_type": "execute_result"
    }
   ],
   "source": [
    "'''from skimage.draw import disk\n",
    "\n",
    "sinogram, theta_centers = compute_sinogram(coincidences_df, bins_theta=360, bins_r=180, use_tof=True)\n",
    "\n",
    "image_shape = (360, 360)\n",
    "azi_angles = theta_centers\n",
    "\n",
    "fig, axs = plt.subplots(1,2, figsize=(10,5))\n",
    "\n",
    "#axs[0].imshow(true_object, cmap=\"Greys_r\")\n",
    "#axs[0].set_title('Object')\n",
    "\n",
    "axs[0].imshow(sinogram.T, cmap=\"Greys_r\") #transpose of sinogram so angle is on y-axis\n",
    "axs[0].set_title(\"Sinogram\")\n",
    "\n",
    "#Define reconstructed image\n",
    "mlem_rec = np.ones(image_shape) #(x^k), iteration 0 (k=0)\n",
    "mask = np.zeros(image_shape, dtype=bool)\n",
    "rr, cc = disk((image_shape[0] // 2, image_shape[1] // 2), image_shape[0] // 2)\n",
    "mask[rr, cc] = True\n",
    "mlem_rec *= mask\n",
    "sino_ones = np.ones(sinogram.shape)\n",
    "sens_image = iradon(sino_ones, azi_angles, circle=True, filter_name=None)\n",
    "\n",
    "for iter in range(20):  \n",
    "    fp = radon(mlem_rec, azi_angles, circle=True) #Forward projection of mlem_rec at iteration k (A x^k)\n",
    "    ratio = sinogram / (fp + 0.000001) #ratio sinogram, tells you how off the estimate was\n",
    "    correction = iradon(ratio, azi_angles, circle=True, filter_name=None) / sens_image # No filter because we are just getting the transpose A^T\n",
    "\n",
    "    axs[1].imshow(mlem_rec, cmap=\"Greys_r\")\n",
    "    axs[1].set_title(\"MLEM recon\")\n",
    "\n",
    "    #axs[1, 1].imshow(fp.T, cmap=\"Greys_r\")\n",
    "    #axs[1, 1].set_title(\"FP of recon\")\n",
    "\n",
    "    #axs[0, 2].imshow(ratio.T, cmap=\"Greys_r\")\n",
    "    #axs[0, 2].set_title(\"Ratio Sinogram\")\n",
    "\n",
    "    #axs[1, 2].imshow(correction, cmap=\"Greys_r\")\n",
    "    #axs[1, 2].set_title(\"BP of ratio\")\n",
    "\n",
    "    mlem_rec = mlem_rec * correction\n",
    "\n",
    "    axs[1].imshow(mlem_rec, cmap=\"Greys_r\")\n",
    "    axs[1].set_title(\"MLEM Recon image It=%d\" % (iter+1))\n",
    "    display(fig)\n",
    "    clear_output(wait = True)\n",
    "    plt.pause(0.1)'''\n"
   ]
  }
 ],
 "metadata": {
  "kernelspec": {
   "display_name": "opengate_env",
   "language": "python",
   "name": "opengate_env"
  },
  "language_info": {
   "codemirror_mode": {
    "name": "ipython",
    "version": 3
   },
   "file_extension": ".py",
   "mimetype": "text/x-python",
   "name": "python",
   "nbconvert_exporter": "python",
   "pygments_lexer": "ipython3",
   "version": "3.11.8"
  }
 },
 "nbformat": 4,
 "nbformat_minor": 2
}
